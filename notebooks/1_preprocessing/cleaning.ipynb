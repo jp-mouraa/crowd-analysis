{
 "cells": [
  {
   "cell_type": "code",
   "execution_count": 2,
   "id": "9463e996",
   "metadata": {},
   "outputs": [],
   "source": [
    "from PIL import Image\n",
    "import numpy as np\n",
    "import pandas as pd\n",
    "import os\n",
    "import re"
   ]
  },
  {
   "cell_type": "markdown",
   "id": "034bf90a",
   "metadata": {},
   "source": [
    "## Mall Dataset [Kaggle]"
   ]
  },
  {
   "cell_type": "code",
   "execution_count": null,
   "id": "c0c84fa4",
   "metadata": {},
   "outputs": [
    {
     "name": "stderr",
     "output_type": "stream",
     "text": [
      "<>:6: SyntaxWarning: invalid escape sequence '\\d'\n",
      "<>:6: SyntaxWarning: invalid escape sequence '\\d'\n",
      "C:\\Users\\pucrs\\AppData\\Local\\Temp\\ipykernel_24204\\164846479.py:6: SyntaxWarning: invalid escape sequence '\\d'\n",
      "  text_processed = re.sub(\"^seq_0+(\\d+)\\.jpg$\", r'\\1.jpg', file_name)\n"
     ]
    }
   ],
   "source": [
    "# renaming files from Mall/frames/\n",
    "\n",
    "directory = \"../../data/Mall/frames/\"\n",
    "\n",
    "for file_name in os.listdir(directory):\n",
    "    text_processed = re.sub(\"^seq_0+(\\d+)\\.jpg$\", r'\\1.jpg', file_name)\n",
    "    # print(directory + file_name, directory + text_processed)\n",
    "    # os.rename(directory + file_name, directory + text_processed)"
   ]
  },
  {
   "cell_type": "code",
   "execution_count": 5,
   "id": "de8a808e",
   "metadata": {},
   "outputs": [],
   "source": [
    "# looking a sample image from Mall dataset\n",
    "image_path = \"../../data/images/crowd.png\" \n",
    "crowd_counting_kaggle = \"../../data/Mall/frames/\"\n",
    "\n",
    "with Image.open(crowd_counting_kaggle + \"17.jpg\") as img:\n",
    "    img = img.convert(\"RGB\")\n",
    "    img.show()"
   ]
  },
  {
   "cell_type": "markdown",
   "id": "c5870dd3",
   "metadata": {},
   "source": [
    "## Mall V2 Dataset [Kaggle]"
   ]
  },
  {
   "cell_type": "code",
   "execution_count": null,
   "id": "c971269b",
   "metadata": {},
   "outputs": [],
   "source": []
  },
  {
   "cell_type": "markdown",
   "id": "0110448c",
   "metadata": {},
   "source": [
    "## Human Tracking Counting"
   ]
  },
  {
   "cell_type": "code",
   "execution_count": null,
   "id": "a9403b5b",
   "metadata": {},
   "outputs": [
    {
     "name": "stdout",
     "output_type": "stream",
     "text": [
      "Processing: boxes\n",
      "Processing: images\n"
     ]
    }
   ],
   "source": [
    "# renaming files from HumanTracking/boxes/\n",
    "\n",
    "main_directory = \"../../data/HumanTracking/\"\n",
    "\n",
    "for folder in os.listdir(main_directory):\n",
    "    directory = os.path.join(main_directory, folder)\n",
    "    \n",
    "    if not os.path.isdir(directory):  \n",
    "        continue  \n",
    "\n",
    "    print(f\"Processing: {folder}\")\n",
    "\n",
    "    for file_name in os.listdir(directory):\n",
    "        match = re.match(r\"^frame_0+(\\d+)\\.PNG$\", file_name)\n",
    "        if match:\n",
    "            new_name = f\"{match.group(1)}.PNG\"\n",
    "            \n",
    "            old_path = os.path.join(directory, file_name)\n",
    "            new_path = os.path.join(directory, new_name)\n",
    "\n",
    "            print(f\"Renaming: {file_name} -> {new_name}\")\n",
    "            os.rename(old_path, new_path)"
   ]
  },
  {
   "cell_type": "code",
   "execution_count": null,
   "id": "0aab77f0",
   "metadata": {},
   "outputs": [],
   "source": [
    "# looking a sample image from HumanTracking dataset\n",
    "\n",
    "image_path = \"../../data/images/crowd.png\" \n",
    "human_tracking_kaggle = \"../../data/HumanTracking/boxes/\"\n",
    "\n",
    "with Image.open(human_tracking_kaggle + \"17.png\") as img:\n",
    "    img = img.convert(\"RGB\")\n",
    "    img.show()"
   ]
  }
 ],
 "metadata": {
  "kernelspec": {
   "display_name": "crowd-analysis",
   "language": "python",
   "name": "python3"
  },
  "language_info": {
   "codemirror_mode": {
    "name": "ipython",
    "version": 3
   },
   "file_extension": ".py",
   "mimetype": "text/x-python",
   "name": "python",
   "nbconvert_exporter": "python",
   "pygments_lexer": "ipython3",
   "version": "3.13.5"
  }
 },
 "nbformat": 4,
 "nbformat_minor": 5
}
