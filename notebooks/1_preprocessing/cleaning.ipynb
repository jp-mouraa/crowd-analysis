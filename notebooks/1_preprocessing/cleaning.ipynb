{
 "cells": [
  {
   "cell_type": "code",
   "execution_count": 2,
   "id": "9463e996",
   "metadata": {},
   "outputs": [],
   "source": [
    "from PIL import Image\n",
    "import numpy as np\n",
    "import pandas as pd\n",
    "import os\n",
    "import re"
   ]
  },
  {
   "cell_type": "markdown",
   "id": "034bf90a",
   "metadata": {},
   "source": [
    "## Mall Dataset [Kaggle]"
   ]
  },
  {
   "cell_type": "code",
   "execution_count": null,
   "id": "c0c84fa4",
   "metadata": {},
   "outputs": [
    {
     "name": "stderr",
     "output_type": "stream",
     "text": [
      "<>:6: SyntaxWarning: invalid escape sequence '\\d'\n",
      "<>:6: SyntaxWarning: invalid escape sequence '\\d'\n",
      "C:\\Users\\pucrs\\AppData\\Local\\Temp\\ipykernel_24204\\164846479.py:6: SyntaxWarning: invalid escape sequence '\\d'\n",
      "  text_processed = re.sub(\"^seq_0+(\\d+)\\.jpg$\", r'\\1.jpg', file_name)\n"
     ]
    }
   ],
   "source": [
    "# renaming files from raw/Mall/frames/\n",
    "\n",
    "directory = \"../../data/raw/Mall/frames/\"\n",
    "\n",
    "for file_name in os.listdir(directory):\n",
    "    text_processed = re.sub(\"^seq_0+(\\d+)\\.jpg$\", r'\\1.jpg', file_name)\n",
    "    # print(directory + file_name, directory + text_processed)\n",
    "    # os.rename(directory + file_name, directory + text_processed)"
   ]
  },
  {
   "cell_type": "code",
   "execution_count": null,
   "id": "de8a808e",
   "metadata": {},
   "outputs": [],
   "source": [
    "# looking a sample image from Mall dataset\n",
    "crowd_counting_kaggle = \"../../data/raw/Mall/frames/\"\n",
    "\n",
    "with Image.open(crowd_counting_kaggle + \"17.jpg\") as img:\n",
    "    img = img.convert(\"RGB\")\n",
    "    img.show()"
   ]
  },
  {
   "cell_type": "markdown",
   "id": "c5870dd3",
   "metadata": {},
   "source": [
    "## Mall V2 Dataset [Kaggle]"
   ]
  },
  {
   "cell_type": "code",
   "execution_count": null,
   "id": "c971269b",
   "metadata": {},
   "outputs": [],
   "source": []
  },
  {
   "cell_type": "markdown",
   "id": "0110448c",
   "metadata": {},
   "source": [
    "## Human Tracking Counting"
   ]
  },
  {
   "cell_type": "code",
   "execution_count": 8,
   "id": "a9403b5b",
   "metadata": {},
   "outputs": [
    {
     "name": "stdout",
     "output_type": "stream",
     "text": [
      "Processing: boxes\n",
      "Renaming: frame_000000.PNG -> 0.PNG\n",
      "Renaming: frame_000001.PNG -> 1.PNG\n",
      "Renaming: frame_000002.PNG -> 2.PNG\n",
      "Renaming: frame_000003.PNG -> 3.PNG\n",
      "Renaming: frame_000004.PNG -> 4.PNG\n",
      "Renaming: frame_000005.PNG -> 5.PNG\n",
      "Renaming: frame_000006.PNG -> 6.PNG\n",
      "Renaming: frame_000007.PNG -> 7.PNG\n",
      "Renaming: frame_000008.PNG -> 8.PNG\n",
      "Renaming: frame_000009.PNG -> 9.PNG\n",
      "Renaming: frame_000010.PNG -> 10.PNG\n",
      "Renaming: frame_000011.PNG -> 11.PNG\n",
      "Renaming: frame_000012.PNG -> 12.PNG\n",
      "Renaming: frame_000013.PNG -> 13.PNG\n",
      "Renaming: frame_000014.PNG -> 14.PNG\n",
      "Renaming: frame_000015.PNG -> 15.PNG\n",
      "Renaming: frame_000016.PNG -> 16.PNG\n",
      "Renaming: frame_000017.PNG -> 17.PNG\n",
      "Renaming: frame_000018.PNG -> 18.PNG\n",
      "Renaming: frame_000019.PNG -> 19.PNG\n",
      "Renaming: frame_000020.PNG -> 20.PNG\n",
      "Renaming: frame_000021.PNG -> 21.PNG\n",
      "Renaming: frame_000022.PNG -> 22.PNG\n",
      "Renaming: frame_000023.PNG -> 23.PNG\n",
      "Renaming: frame_000024.PNG -> 24.PNG\n",
      "Renaming: frame_000025.PNG -> 25.PNG\n",
      "Renaming: frame_000026.PNG -> 26.PNG\n",
      "Renaming: frame_000027.PNG -> 27.PNG\n",
      "Renaming: frame_000028.PNG -> 28.PNG\n",
      "Renaming: frame_000029.PNG -> 29.PNG\n",
      "Renaming: frame_000030.PNG -> 30.PNG\n",
      "Renaming: frame_000031.PNG -> 31.PNG\n",
      "Renaming: frame_000032.PNG -> 32.PNG\n",
      "Renaming: frame_000033.PNG -> 33.PNG\n",
      "Renaming: frame_000034.PNG -> 34.PNG\n",
      "Renaming: frame_000035.PNG -> 35.PNG\n",
      "Renaming: frame_000036.PNG -> 36.PNG\n",
      "Renaming: frame_000037.PNG -> 37.PNG\n",
      "Renaming: frame_000038.PNG -> 38.PNG\n",
      "Renaming: frame_000039.PNG -> 39.PNG\n",
      "Renaming: frame_000040.PNG -> 40.PNG\n",
      "Processing: crowd-analysis\n",
      "Processing: images\n",
      "Renaming: frame_000000.PNG -> 0.PNG\n",
      "Renaming: frame_000001.PNG -> 1.PNG\n",
      "Renaming: frame_000002.PNG -> 2.PNG\n",
      "Renaming: frame_000003.PNG -> 3.PNG\n",
      "Renaming: frame_000004.PNG -> 4.PNG\n",
      "Renaming: frame_000005.PNG -> 5.PNG\n",
      "Renaming: frame_000006.PNG -> 6.PNG\n",
      "Renaming: frame_000007.PNG -> 7.PNG\n",
      "Renaming: frame_000008.PNG -> 8.PNG\n",
      "Renaming: frame_000009.PNG -> 9.PNG\n",
      "Renaming: frame_000010.PNG -> 10.PNG\n",
      "Renaming: frame_000011.PNG -> 11.PNG\n",
      "Renaming: frame_000012.PNG -> 12.PNG\n",
      "Renaming: frame_000013.PNG -> 13.PNG\n",
      "Renaming: frame_000014.PNG -> 14.PNG\n",
      "Renaming: frame_000015.PNG -> 15.PNG\n",
      "Renaming: frame_000016.PNG -> 16.PNG\n",
      "Renaming: frame_000017.PNG -> 17.PNG\n",
      "Renaming: frame_000018.PNG -> 18.PNG\n",
      "Renaming: frame_000019.PNG -> 19.PNG\n",
      "Renaming: frame_000020.PNG -> 20.PNG\n",
      "Renaming: frame_000021.PNG -> 21.PNG\n",
      "Renaming: frame_000022.PNG -> 22.PNG\n",
      "Renaming: frame_000023.PNG -> 23.PNG\n",
      "Renaming: frame_000024.PNG -> 24.PNG\n",
      "Renaming: frame_000025.PNG -> 25.PNG\n",
      "Renaming: frame_000026.PNG -> 26.PNG\n",
      "Renaming: frame_000027.PNG -> 27.PNG\n",
      "Renaming: frame_000028.PNG -> 28.PNG\n",
      "Renaming: frame_000029.PNG -> 29.PNG\n",
      "Renaming: frame_000030.PNG -> 30.PNG\n",
      "Renaming: frame_000031.PNG -> 31.PNG\n",
      "Renaming: frame_000032.PNG -> 32.PNG\n",
      "Renaming: frame_000033.PNG -> 33.PNG\n",
      "Renaming: frame_000034.PNG -> 34.PNG\n",
      "Renaming: frame_000035.PNG -> 35.PNG\n",
      "Renaming: frame_000036.PNG -> 36.PNG\n",
      "Renaming: frame_000037.PNG -> 37.PNG\n",
      "Renaming: frame_000038.PNG -> 38.PNG\n",
      "Renaming: frame_000039.PNG -> 39.PNG\n",
      "Renaming: frame_000040.PNG -> 40.PNG\n"
     ]
    }
   ],
   "source": [
    "# renaming files from raw/HumanTracking/boxes/\n",
    "\n",
    "main_directory = \"../../data/raw/HumanTracking/\"\n",
    "\n",
    "for folder in os.listdir(main_directory):\n",
    "    directory = os.path.join(main_directory, folder)\n",
    "    \n",
    "    if not os.path.isdir(directory):  \n",
    "        continue  \n",
    "\n",
    "    print(f\"Processing: {folder}\")\n",
    "\n",
    "    for file_name in os.listdir(directory):\n",
    "        match = re.match(r\"^frame_0+(\\d+)\\.PNG$\", file_name)\n",
    "        if match:\n",
    "            new_name = f\"{match.group(1)}.PNG\"\n",
    "            \n",
    "            old_path = os.path.join(directory, file_name)\n",
    "            new_path = os.path.join(directory, new_name)\n",
    "\n",
    "            print(f\"Renaming: {file_name} -> {new_name}\")\n",
    "            os.rename(old_path, new_path)"
   ]
  },
  {
   "cell_type": "code",
   "execution_count": 12,
   "id": "7b076536",
   "metadata": {},
   "outputs": [],
   "source": [
    "human_tracking_sample = \"../../data/raw/HumanTracking/boxes/\"\n",
    "with Image.open(human_tracking_sample + \"17.PNG\") as img:\n",
    "    img = img.convert(\"RGB\")\n",
    "    img.show()"
   ]
  },
  {
   "cell_type": "markdown",
   "id": "fd11b00e",
   "metadata": {},
   "source": [
    "## Crowd image visualization"
   ]
  },
  {
   "cell_type": "code",
   "execution_count": 11,
   "id": "0aab77f0",
   "metadata": {},
   "outputs": [],
   "source": [
    "# looking a sample image from HumanTracking dataset\n",
    "\n",
    "image_path = \"../../data/images/crowd.png\" \n",
    "\n",
    "with Image.open(image_path) as img:\n",
    "    img = img.convert(\"RGB\")\n",
    "    img.show()"
   ]
  }
 ],
 "metadata": {
  "kernelspec": {
   "display_name": "crowd-analysis",
   "language": "python",
   "name": "python3"
  },
  "language_info": {
   "codemirror_mode": {
    "name": "ipython",
    "version": 3
   },
   "file_extension": ".py",
   "mimetype": "text/x-python",
   "name": "python",
   "nbconvert_exporter": "python",
   "pygments_lexer": "ipython3",
   "version": "3.13.5"
  }
 },
 "nbformat": 4,
 "nbformat_minor": 5
}
