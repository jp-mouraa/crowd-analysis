{
 "cells": [
  {
   "cell_type": "code",
   "execution_count": 1,
   "id": "9463e996",
   "metadata": {},
   "outputs": [],
   "source": [
    "from PIL import Image\n",
    "import numpy as np\n",
    "import pandas as pd\n",
    "import os\n",
    "import re"
   ]
  },
  {
   "cell_type": "markdown",
   "id": "034bf90a",
   "metadata": {},
   "source": [
    "### Crowd Counting Dataset [Kaggle]"
   ]
  },
  {
   "cell_type": "code",
   "execution_count": null,
   "id": "c0c84fa4",
   "metadata": {},
   "outputs": [
    {
     "name": "stderr",
     "output_type": "stream",
     "text": [
      "<>:6: SyntaxWarning: invalid escape sequence '\\d'\n",
      "<>:6: SyntaxWarning: invalid escape sequence '\\d'\n",
      "C:\\Users\\Admin\\AppData\\Local\\Temp\\ipykernel_9200\\2906872608.py:6: SyntaxWarning: invalid escape sequence '\\d'\n",
      "  text_processed = re.sub(\"^seq_0+(\\d+)\\.jpg$\", r'\\1.jpg', file_name)\n"
     ]
    }
   ],
   "source": [
    "# renaming files from CrowdCountingKaggle/frames/\n",
    "\n",
    "directory = (\"../data/images/CrowdCountingKaggle/frames/\")\n",
    "\n",
    "for file_name in os.listdir(directory):\n",
    "    text_processed = re.sub(\"^seq_0+(\\d+)\\.jpg$\", r'\\1.jpg', file_name)\n",
    "    # print(directory + file_name, directory + text_processed)\n",
    "    # os.rename(directory + file_name, directory + text_processed)"
   ]
  },
  {
   "cell_type": "code",
   "execution_count": null,
   "id": "de8a808e",
   "metadata": {},
   "outputs": [],
   "source": [
    "# looking a sample image from CrowdCountingKaggle dataset\n",
    "image_path = \"../data/images/crowd.png\" \n",
    "crowd_counting_kaggle = \"../data/images/CrowdCountingKaggle/frames/\"\n",
    "\n",
    "with Image.open(crowd_counting_kaggle + \"17.jpg\") as img:\n",
    "    img = img.convert(\"RGB\")\n",
    "    img.show()"
   ]
  }
 ],
 "metadata": {
  "kernelspec": {
   "display_name": "crowd-analysis",
   "language": "python",
   "name": "python3"
  },
  "language_info": {
   "codemirror_mode": {
    "name": "ipython",
    "version": 3
   },
   "file_extension": ".py",
   "mimetype": "text/x-python",
   "name": "python",
   "nbconvert_exporter": "python",
   "pygments_lexer": "ipython3",
   "version": "3.13.5"
  }
 },
 "nbformat": 4,
 "nbformat_minor": 5
}
